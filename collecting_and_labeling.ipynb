{
 "cells": [
  {
   "cell_type": "code",
   "execution_count": 1,
   "id": "69e349ce",
   "metadata": {},
   "outputs": [],
   "source": [
    "import os\n",
    "import cv2\n",
    "import time\n",
    "import uuid"
   ]
  },
  {
   "cell_type": "code",
   "execution_count": 6,
   "id": "e9e533e4",
   "metadata": {},
   "outputs": [],
   "source": [
    "labels = ['drowsy', 'nondrowsy']\n",
    "num_images = 30\n",
    "IMAGES_PATH = os.path.join('tensorflow', 'workspace', 'images', 'collectedimages')"
   ]
  },
  {
   "cell_type": "code",
   "execution_count": 7,
   "id": "ad5c1f3d",
   "metadata": {},
   "outputs": [],
   "source": [
    "if not os.path.exists(IMAGES_PATH):\n",
    "    !mkdir {IMAGES_PATH}\n",
    "    \n",
    "for label in labels:\n",
    "    path = os.path.join(IMAGES_PATH, label)\n",
    "    if not os.path.exists(path):\n",
    "        !mkdir {path}"
   ]
  },
  {
   "cell_type": "code",
   "execution_count": 8,
   "id": "4db2e511",
   "metadata": {},
   "outputs": [
    {
     "name": "stdout",
     "output_type": "stream",
     "text": [
      "collecting images for drowsy\n",
      "collecting images for drowsy, image number 0\n",
      "collecting images for drowsy, image number 1\n",
      "collecting images for drowsy, image number 2\n",
      "collecting images for drowsy, image number 3\n",
      "collecting images for drowsy, image number 4\n",
      "collecting images for drowsy, image number 5\n",
      "collecting images for drowsy, image number 6\n",
      "collecting images for drowsy, image number 7\n",
      "collecting images for drowsy, image number 8\n",
      "collecting images for drowsy, image number 9\n",
      "collecting images for drowsy, image number 10\n",
      "collecting images for drowsy, image number 11\n",
      "collecting images for drowsy, image number 12\n",
      "collecting images for drowsy, image number 13\n",
      "collecting images for drowsy, image number 14\n",
      "collecting images for drowsy, image number 15\n",
      "collecting images for drowsy, image number 16\n",
      "collecting images for drowsy, image number 17\n",
      "collecting images for drowsy, image number 18\n",
      "collecting images for drowsy, image number 19\n",
      "collecting images for drowsy, image number 20\n",
      "collecting images for drowsy, image number 21\n",
      "collecting images for drowsy, image number 22\n",
      "collecting images for drowsy, image number 23\n",
      "collecting images for drowsy, image number 24\n",
      "collecting images for drowsy, image number 25\n",
      "collecting images for drowsy, image number 26\n",
      "collecting images for drowsy, image number 27\n",
      "collecting images for drowsy, image number 28\n",
      "collecting images for drowsy, image number 29\n"
     ]
    }
   ],
   "source": [
    "cap = cv2.VideoCapture(0)\n",
    "for label in labels:\n",
    "        \n",
    "    print('collecting images for {}'.format(label))\n",
    "    time.sleep(5)\n",
    "        \n",
    "    for num_image in range(num_images):\n",
    "        print('collecting images for {}, image number {}'.format(label, num_image))\n",
    "            \n",
    "        ret, frame = cap.read()\n",
    "            \n",
    "        imgname = os.path.join(IMAGES_PATH, label, label + '.' + '{}.jpg'.format(str(uuid.uuid1())))\n",
    "            \n",
    "        cv2.imwrite(imgname, frame)\n",
    "            \n",
    "        cv2.imshow('capturing', frame)\n",
    "            \n",
    "        time.sleep(1)\n",
    "            \n",
    "        if cv2.waitKey(10) & 0xFF == ord('q'):\n",
    "            break\n",
    "                \n",
    "cap.release()\n",
    "cv2.destroyAllWindows()"
   ]
  },
  {
   "cell_type": "code",
   "execution_count": 9,
   "id": "5b14a905",
   "metadata": {},
   "outputs": [],
   "source": [
    "LABEL_PATH = os.path.join('tensorflow', 'labelimg')"
   ]
  },
  {
   "cell_type": "code",
   "execution_count": 12,
   "id": "570cc055",
   "metadata": {},
   "outputs": [
    {
     "name": "stdout",
     "output_type": "stream",
     "text": [
      "Collecting pyqt5\n",
      "  Using cached PyQt5-5.15.9-cp37-abi3-win_amd64.whl (6.8 MB)\n",
      "Collecting lxml\n",
      "  Downloading lxml-4.9.3-cp310-cp310-win_amd64.whl (3.8 MB)\n",
      "     ---------------------------------------- 3.8/3.8 MB 6.9 MB/s eta 0:00:00\n",
      "Collecting PyQt5-sip<13,>=12.11\n",
      "  Downloading PyQt5_sip-12.12.2-cp310-cp310-win_amd64.whl (78 kB)\n",
      "     ---------------------------------------- 78.4/78.4 kB 1.4 MB/s eta 0:00:00\n",
      "Collecting PyQt5-Qt5>=5.15.2\n",
      "  Using cached PyQt5_Qt5-5.15.2-py3-none-win_amd64.whl (50.1 MB)\n",
      "Installing collected packages: PyQt5-Qt5, PyQt5-sip, lxml, pyqt5\n",
      "Successfully installed PyQt5-Qt5-5.15.2 PyQt5-sip-12.12.2 lxml-4.9.3 pyqt5-5.15.9\n"
     ]
    },
    {
     "name": "stderr",
     "output_type": "stream",
     "text": [
      "\n",
      "[notice] A new release of pip available: 22.2.1 -> 23.2.1\n",
      "[notice] To update, run: python.exe -m pip install --upgrade pip\n"
     ]
    }
   ],
   "source": [
    "!pip install --upgrade pyqt5 lxml"
   ]
  },
  {
   "cell_type": "code",
   "execution_count": 10,
   "id": "ffc57eb3",
   "metadata": {},
   "outputs": [
    {
     "name": "stderr",
     "output_type": "stream",
     "text": [
      "Cloning into 'tensorflow\\labelimg'...\n"
     ]
    }
   ],
   "source": [
    "if not os.path.exists(LABEL_PATH):\n",
    "    !mkdir {LABEL_PATH}\n",
    "    !git clone https://github.com/tzutalin/labelImg {LABEL_PATH}"
   ]
  },
  {
   "cell_type": "code",
   "execution_count": 13,
   "id": "584d6cfc",
   "metadata": {},
   "outputs": [],
   "source": [
    "!cd {LABEL_PATH} && pyrcc5 -o libs/resources.py resources.qrc"
   ]
  },
  {
   "cell_type": "code",
   "execution_count": 14,
   "id": "9384e129",
   "metadata": {},
   "outputs": [
    {
     "name": "stdout",
     "output_type": "stream",
     "text": [
      "Image:E:\\PIYUSH_LAVANIYA_CMD\\DEEP_LEARNING_Projects\\Tensorflow_ObjectDetection\\tensorflow\\workspace\\images\\collectedimages\\drowsy\\drowsy.a3a7ad63-30ed-11ee-8bf6-20e9170741a3.jpg -> Annotation:E:/PIYUSH_LAVANIYA_CMD/DEEP_LEARNING_Projects/Tensorflow_ObjectDetection/tensorflow/workspace/images/collectedimages/drowsy\\drowsy.a3a7ad63-30ed-11ee-8bf6-20e9170741a3.xml\n",
      "Image:E:\\PIYUSH_LAVANIYA_CMD\\DEEP_LEARNING_Projects\\Tensorflow_ObjectDetection\\tensorflow\\workspace\\images\\collectedimages\\drowsy\\drowsy.a4e6ff5a-30ed-11ee-bc88-20e9170741a3.jpg -> Annotation:E:/PIYUSH_LAVANIYA_CMD/DEEP_LEARNING_Projects/Tensorflow_ObjectDetection/tensorflow/workspace/images/collectedimages/drowsy\\drowsy.a4e6ff5a-30ed-11ee-bc88-20e9170741a3.xml\n",
      "Cancel creation.\n",
      "Image:E:\\PIYUSH_LAVANIYA_CMD\\DEEP_LEARNING_Projects\\Tensorflow_ObjectDetection\\tensorflow\\workspace\\images\\collectedimages\\drowsy\\drowsy.a6c95f77-30ed-11ee-ad23-20e9170741a3.jpg -> Annotation:E:/PIYUSH_LAVANIYA_CMD/DEEP_LEARNING_Projects/Tensorflow_ObjectDetection/tensorflow/workspace/images/collectedimages/drowsy\\drowsy.a6c95f77-30ed-11ee-ad23-20e9170741a3.xml\n",
      "Image:E:\\PIYUSH_LAVANIYA_CMD\\DEEP_LEARNING_Projects\\Tensorflow_ObjectDetection\\tensorflow\\workspace\\images\\collectedimages\\drowsy\\drowsy.a8abcea5-30ed-11ee-935c-20e9170741a3.jpg -> Annotation:E:/PIYUSH_LAVANIYA_CMD/DEEP_LEARNING_Projects/Tensorflow_ObjectDetection/tensorflow/workspace/images/collectedimages/drowsy\\drowsy.a8abcea5-30ed-11ee-935c-20e9170741a3.xml\n",
      "Image:E:\\PIYUSH_LAVANIYA_CMD\\DEEP_LEARNING_Projects\\Tensorflow_ObjectDetection\\tensorflow\\workspace\\images\\collectedimages\\drowsy\\drowsy.a9ec226a-30ed-11ee-9d1e-20e9170741a3.jpg -> Annotation:E:/PIYUSH_LAVANIYA_CMD/DEEP_LEARNING_Projects/Tensorflow_ObjectDetection/tensorflow/workspace/images/collectedimages/drowsy\\drowsy.a9ec226a-30ed-11ee-9d1e-20e9170741a3.xml\n",
      "Image:E:\\PIYUSH_LAVANIYA_CMD\\DEEP_LEARNING_Projects\\Tensorflow_ObjectDetection\\tensorflow\\workspace\\images\\collectedimages\\drowsy\\drowsy.a80af3e4-30ed-11ee-9746-20e9170741a3.jpg -> Annotation:E:/PIYUSH_LAVANIYA_CMD/DEEP_LEARNING_Projects/Tensorflow_ObjectDetection/tensorflow/workspace/images/collectedimages/drowsy\\drowsy.a80af3e4-30ed-11ee-9746-20e9170741a3.xml\n",
      "Image:E:\\PIYUSH_LAVANIYA_CMD\\DEEP_LEARNING_Projects\\Tensorflow_ObjectDetection\\tensorflow\\workspace\\images\\collectedimages\\drowsy\\drowsy.a94d3a32-30ed-11ee-b1e5-20e9170741a3.jpg -> Annotation:E:/PIYUSH_LAVANIYA_CMD/DEEP_LEARNING_Projects/Tensorflow_ObjectDetection/tensorflow/workspace/images/collectedimages/drowsy\\drowsy.a94d3a32-30ed-11ee-b1e5-20e9170741a3.xml\n",
      "Image:E:\\PIYUSH_LAVANIYA_CMD\\DEEP_LEARNING_Projects\\Tensorflow_ObjectDetection\\tensorflow\\workspace\\images\\collectedimages\\drowsy\\drowsy.a3079f6e-30ed-11ee-a38e-20e9170741a3.jpg -> Annotation:E:/PIYUSH_LAVANIYA_CMD/DEEP_LEARNING_Projects/Tensorflow_ObjectDetection/tensorflow/workspace/images/collectedimages/drowsy\\drowsy.a3079f6e-30ed-11ee-a38e-20e9170741a3.xml\n",
      "Image:E:\\PIYUSH_LAVANIYA_CMD\\DEEP_LEARNING_Projects\\Tensorflow_ObjectDetection\\tensorflow\\workspace\\images\\collectedimages\\drowsy\\drowsy.a4488f9d-30ed-11ee-9006-20e9170741a3.jpg -> Annotation:E:/PIYUSH_LAVANIYA_CMD/DEEP_LEARNING_Projects/Tensorflow_ObjectDetection/tensorflow/workspace/images/collectedimages/drowsy\\drowsy.a4488f9d-30ed-11ee-9006-20e9170741a3.xml\n",
      "Image:E:\\PIYUSH_LAVANIYA_CMD\\DEEP_LEARNING_Projects\\Tensorflow_ObjectDetection\\tensorflow\\workspace\\images\\collectedimages\\drowsy\\drowsy.a7690a9f-30ed-11ee-8782-20e9170741a3.jpg -> Annotation:E:/PIYUSH_LAVANIYA_CMD/DEEP_LEARNING_Projects/Tensorflow_ObjectDetection/tensorflow/workspace/images/collectedimages/drowsy\\drowsy.a7690a9f-30ed-11ee-8782-20e9170741a3.xml\n",
      "Image:E:\\PIYUSH_LAVANIYA_CMD\\DEEP_LEARNING_Projects\\Tensorflow_ObjectDetection\\tensorflow\\workspace\\images\\collectedimages\\drowsy\\drowsy.a58885d7-30ed-11ee-ae2f-20e9170741a3.jpg -> Annotation:E:/PIYUSH_LAVANIYA_CMD/DEEP_LEARNING_Projects/Tensorflow_ObjectDetection/tensorflow/workspace/images/collectedimages/drowsy\\drowsy.a58885d7-30ed-11ee-ae2f-20e9170741a3.xml\n",
      "Image:E:\\PIYUSH_LAVANIYA_CMD\\DEEP_LEARNING_Projects\\Tensorflow_ObjectDetection\\tensorflow\\workspace\\images\\collectedimages\\drowsy\\drowsy.a62759f2-30ed-11ee-9ad1-20e9170741a3.jpg -> Annotation:E:/PIYUSH_LAVANIYA_CMD/DEEP_LEARNING_Projects/Tensorflow_ObjectDetection/tensorflow/workspace/images/collectedimages/drowsy\\drowsy.a62759f2-30ed-11ee-9ad1-20e9170741a3.xml\n",
      "Image:E:\\PIYUSH_LAVANIYA_CMD\\DEEP_LEARNING_Projects\\Tensorflow_ObjectDetection\\tensorflow\\workspace\\images\\collectedimages\\drowsy\\drowsy.aa8daebb-30ed-11ee-b2f4-20e9170741a3.jpg -> Annotation:E:/PIYUSH_LAVANIYA_CMD/DEEP_LEARNING_Projects/Tensorflow_ObjectDetection/tensorflow/workspace/images/collectedimages/drowsy\\drowsy.aa8daebb-30ed-11ee-b2f4-20e9170741a3.xml\n",
      "Image:E:\\PIYUSH_LAVANIYA_CMD\\DEEP_LEARNING_Projects\\Tensorflow_ObjectDetection\\tensorflow\\workspace\\images\\collectedimages\\drowsy\\drowsy.ab2ce060-30ed-11ee-b5c9-20e9170741a3.jpg -> Annotation:E:/PIYUSH_LAVANIYA_CMD/DEEP_LEARNING_Projects/Tensorflow_ObjectDetection/tensorflow/workspace/images/collectedimages/drowsy\\drowsy.ab2ce060-30ed-11ee-b5c9-20e9170741a3.xml\n",
      "Image:E:\\PIYUSH_LAVANIYA_CMD\\DEEP_LEARNING_Projects\\Tensorflow_ObjectDetection\\tensorflow\\workspace\\images\\collectedimages\\drowsy\\drowsy.abcd89cb-30ed-11ee-91cc-20e9170741a3.jpg -> Annotation:E:/PIYUSH_LAVANIYA_CMD/DEEP_LEARNING_Projects/Tensorflow_ObjectDetection/tensorflow/workspace/images/collectedimages/drowsy\\drowsy.abcd89cb-30ed-11ee-91cc-20e9170741a3.xml\n",
      "Image:E:\\PIYUSH_LAVANIYA_CMD\\DEEP_LEARNING_Projects\\Tensorflow_ObjectDetection\\tensorflow\\workspace\\images\\collectedimages\\drowsy\\drowsy.ac6ee16d-30ed-11ee-bb3c-20e9170741a3.jpg -> Annotation:E:/PIYUSH_LAVANIYA_CMD/DEEP_LEARNING_Projects/Tensorflow_ObjectDetection/tensorflow/workspace/images/collectedimages/drowsy\\drowsy.ac6ee16d-30ed-11ee-bb3c-20e9170741a3.xml\n",
      "Image:E:\\PIYUSH_LAVANIYA_CMD\\DEEP_LEARNING_Projects\\Tensorflow_ObjectDetection\\tensorflow\\workspace\\images\\collectedimages\\drowsy\\drowsy.ad0f85b8-30ed-11ee-9641-20e9170741a3.jpg -> Annotation:E:/PIYUSH_LAVANIYA_CMD/DEEP_LEARNING_Projects/Tensorflow_ObjectDetection/tensorflow/workspace/images/collectedimages/drowsy\\drowsy.ad0f85b8-30ed-11ee-9641-20e9170741a3.xml\n",
      "Image:E:\\PIYUSH_LAVANIYA_CMD\\DEEP_LEARNING_Projects\\Tensorflow_ObjectDetection\\tensorflow\\workspace\\images\\collectedimages\\drowsy\\drowsy.adaf9236-30ed-11ee-8627-20e9170741a3.jpg -> Annotation:E:/PIYUSH_LAVANIYA_CMD/DEEP_LEARNING_Projects/Tensorflow_ObjectDetection/tensorflow/workspace/images/collectedimages/drowsy\\drowsy.adaf9236-30ed-11ee-8627-20e9170741a3.xml\n",
      "Image:E:\\PIYUSH_LAVANIYA_CMD\\DEEP_LEARNING_Projects\\Tensorflow_ObjectDetection\\tensorflow\\workspace\\images\\collectedimages\\drowsy\\drowsy.ae510fa1-30ed-11ee-bd64-20e9170741a3.jpg -> Annotation:E:/PIYUSH_LAVANIYA_CMD/DEEP_LEARNING_Projects/Tensorflow_ObjectDetection/tensorflow/workspace/images/collectedimages/drowsy\\drowsy.ae510fa1-30ed-11ee-bd64-20e9170741a3.xml\n",
      "Image:E:\\PIYUSH_LAVANIYA_CMD\\DEEP_LEARNING_Projects\\Tensorflow_ObjectDetection\\tensorflow\\workspace\\images\\collectedimages\\drowsy\\drowsy.aef23a15-30ed-11ee-a4a4-20e9170741a3.jpg -> Annotation:E:/PIYUSH_LAVANIYA_CMD/DEEP_LEARNING_Projects/Tensorflow_ObjectDetection/tensorflow/workspace/images/collectedimages/drowsy\\drowsy.aef23a15-30ed-11ee-a4a4-20e9170741a3.xml\n",
      "Image:E:\\PIYUSH_LAVANIYA_CMD\\DEEP_LEARNING_Projects\\Tensorflow_ObjectDetection\\tensorflow\\workspace\\images\\collectedimages\\drowsy\\drowsy.af93e32e-30ed-11ee-b4cd-20e9170741a3.jpg -> Annotation:E:/PIYUSH_LAVANIYA_CMD/DEEP_LEARNING_Projects/Tensorflow_ObjectDetection/tensorflow/workspace/images/collectedimages/drowsy\\drowsy.af93e32e-30ed-11ee-b4cd-20e9170741a3.xml\n",
      "Image:E:\\PIYUSH_LAVANIYA_CMD\\DEEP_LEARNING_Projects\\Tensorflow_ObjectDetection\\tensorflow\\workspace\\images\\collectedimages\\drowsy\\drowsy.b0d6822c-30ed-11ee-9a41-20e9170741a3.jpg -> Annotation:E:/PIYUSH_LAVANIYA_CMD/DEEP_LEARNING_Projects/Tensorflow_ObjectDetection/tensorflow/workspace/images/collectedimages/drowsy\\drowsy.b0d6822c-30ed-11ee-9a41-20e9170741a3.xml\n",
      "Image:E:\\PIYUSH_LAVANIYA_CMD\\DEEP_LEARNING_Projects\\Tensorflow_ObjectDetection\\tensorflow\\workspace\\images\\collectedimages\\drowsy\\drowsy.b2b8c1d2-30ed-11ee-93ce-20e9170741a3.jpg -> Annotation:E:/PIYUSH_LAVANIYA_CMD/DEEP_LEARNING_Projects/Tensorflow_ObjectDetection/tensorflow/workspace/images/collectedimages/drowsy\\drowsy.b2b8c1d2-30ed-11ee-93ce-20e9170741a3.xml\n",
      "Image:E:\\PIYUSH_LAVANIYA_CMD\\DEEP_LEARNING_Projects\\Tensorflow_ObjectDetection\\tensorflow\\workspace\\images\\collectedimages\\drowsy\\drowsy.b3f9a4f0-30ed-11ee-9219-20e9170741a3.jpg -> Annotation:E:/PIYUSH_LAVANIYA_CMD/DEEP_LEARNING_Projects/Tensorflow_ObjectDetection/tensorflow/workspace/images/collectedimages/drowsy\\drowsy.b3f9a4f0-30ed-11ee-9219-20e9170741a3.xml\n",
      "Image:E:\\PIYUSH_LAVANIYA_CMD\\DEEP_LEARNING_Projects\\Tensorflow_ObjectDetection\\tensorflow\\workspace\\images\\collectedimages\\drowsy\\drowsy.b034b341-30ed-11ee-9005-20e9170741a3.jpg -> Annotation:E:/PIYUSH_LAVANIYA_CMD/DEEP_LEARNING_Projects/Tensorflow_ObjectDetection/tensorflow/workspace/images/collectedimages/drowsy\\drowsy.b034b341-30ed-11ee-9005-20e9170741a3.xml\n",
      "Image:E:\\PIYUSH_LAVANIYA_CMD\\DEEP_LEARNING_Projects\\Tensorflow_ObjectDetection\\tensorflow\\workspace\\images\\collectedimages\\drowsy\\drowsy.b498f3d1-30ed-11ee-a7c6-20e9170741a3.jpg -> Annotation:E:/PIYUSH_LAVANIYA_CMD/DEEP_LEARNING_Projects/Tensorflow_ObjectDetection/tensorflow/workspace/images/collectedimages/drowsy\\drowsy.b498f3d1-30ed-11ee-a7c6-20e9170741a3.xml\n",
      "Image:E:\\PIYUSH_LAVANIYA_CMD\\DEEP_LEARNING_Projects\\Tensorflow_ObjectDetection\\tensorflow\\workspace\\images\\collectedimages\\drowsy\\drowsy.b35777a7-30ed-11ee-aae3-20e9170741a3.jpg -> Annotation:E:/PIYUSH_LAVANIYA_CMD/DEEP_LEARNING_Projects/Tensorflow_ObjectDetection/tensorflow/workspace/images/collectedimages/drowsy\\drowsy.b35777a7-30ed-11ee-aae3-20e9170741a3.xml\n",
      "Image:E:\\PIYUSH_LAVANIYA_CMD\\DEEP_LEARNING_Projects\\Tensorflow_ObjectDetection\\tensorflow\\workspace\\images\\collectedimages\\drowsy\\drowsy.b217318b-30ed-11ee-bb2f-20e9170741a3.jpg -> Annotation:E:/PIYUSH_LAVANIYA_CMD/DEEP_LEARNING_Projects/Tensorflow_ObjectDetection/tensorflow/workspace/images/collectedimages/drowsy\\drowsy.b217318b-30ed-11ee-bb2f-20e9170741a3.xml\n",
      "Image:E:\\PIYUSH_LAVANIYA_CMD\\DEEP_LEARNING_Projects\\Tensorflow_ObjectDetection\\tensorflow\\workspace\\images\\collectedimages\\drowsy\\drowsy.b1754086-30ed-11ee-a5c0-20e9170741a3.jpg -> Annotation:E:/PIYUSH_LAVANIYA_CMD/DEEP_LEARNING_Projects/Tensorflow_ObjectDetection/tensorflow/workspace/images/collectedimages/drowsy\\drowsy.b1754086-30ed-11ee-a5c0-20e9170741a3.xml\n",
      "Image:E:\\PIYUSH_LAVANIYA_CMD\\DEEP_LEARNING_Projects\\Tensorflow_ObjectDetection\\tensorflow\\workspace\\images\\collectedimages\\nondrowsy\\nondrowsy.6caa578e-30ed-11ee-9f76-20e9170741a3.jpg -> Annotation:E:/PIYUSH_LAVANIYA_CMD/DEEP_LEARNING_Projects/Tensorflow_ObjectDetection/tensorflow/workspace/images/collectedimages/nondrowsy\\nondrowsy.6caa578e-30ed-11ee-9f76-20e9170741a3.xml\n",
      "Image:E:\\PIYUSH_LAVANIYA_CMD\\DEEP_LEARNING_Projects\\Tensorflow_ObjectDetection\\tensorflow\\workspace\\images\\collectedimages\\nondrowsy\\nondrowsy.6d4adf07-30ed-11ee-8ae3-20e9170741a3.jpg -> Annotation:E:/PIYUSH_LAVANIYA_CMD/DEEP_LEARNING_Projects/Tensorflow_ObjectDetection/tensorflow/workspace/images/collectedimages/nondrowsy\\nondrowsy.6d4adf07-30ed-11ee-8ae3-20e9170741a3.xml\n",
      "Image:E:\\PIYUSH_LAVANIYA_CMD\\DEEP_LEARNING_Projects\\Tensorflow_ObjectDetection\\tensorflow\\workspace\\images\\collectedimages\\nondrowsy\\nondrowsy.6debebf1-30ed-11ee-a42f-20e9170741a3.jpg -> Annotation:E:/PIYUSH_LAVANIYA_CMD/DEEP_LEARNING_Projects/Tensorflow_ObjectDetection/tensorflow/workspace/images/collectedimages/nondrowsy\\nondrowsy.6debebf1-30ed-11ee-a42f-20e9170741a3.xml\n",
      "Cancel creation.\n",
      "Image:E:\\PIYUSH_LAVANIYA_CMD\\DEEP_LEARNING_Projects\\Tensorflow_ObjectDetection\\tensorflow\\workspace\\images\\collectedimages\\nondrowsy\\nondrowsy.6e8c5906-30ed-11ee-9460-20e9170741a3.jpg -> Annotation:E:/PIYUSH_LAVANIYA_CMD/DEEP_LEARNING_Projects/Tensorflow_ObjectDetection/tensorflow/workspace/images/collectedimages/nondrowsy\\nondrowsy.6e8c5906-30ed-11ee-9460-20e9170741a3.xml\n",
      "Image:E:\\PIYUSH_LAVANIYA_CMD\\DEEP_LEARNING_Projects\\Tensorflow_ObjectDetection\\tensorflow\\workspace\\images\\collectedimages\\nondrowsy\\nondrowsy.6f2fb530-30ed-11ee-ab92-20e9170741a3.jpg -> Annotation:E:/PIYUSH_LAVANIYA_CMD/DEEP_LEARNING_Projects/Tensorflow_ObjectDetection/tensorflow/workspace/images/collectedimages/nondrowsy\\nondrowsy.6f2fb530-30ed-11ee-ab92-20e9170741a3.xml\n",
      "Image:E:\\PIYUSH_LAVANIYA_CMD\\DEEP_LEARNING_Projects\\Tensorflow_ObjectDetection\\tensorflow\\workspace\\images\\collectedimages\\nondrowsy\\nondrowsy.6fd0edc5-30ed-11ee-86e6-20e9170741a3.jpg -> Annotation:E:/PIYUSH_LAVANIYA_CMD/DEEP_LEARNING_Projects/Tensorflow_ObjectDetection/tensorflow/workspace/images/collectedimages/nondrowsy\\nondrowsy.6fd0edc5-30ed-11ee-86e6-20e9170741a3.xml\n",
      "Image:E:\\PIYUSH_LAVANIYA_CMD\\DEEP_LEARNING_Projects\\Tensorflow_ObjectDetection\\tensorflow\\workspace\\images\\collectedimages\\nondrowsy\\nondrowsy.7a8b7756-30ed-11ee-9995-20e9170741a3.jpg -> Annotation:E:/PIYUSH_LAVANIYA_CMD/DEEP_LEARNING_Projects/Tensorflow_ObjectDetection/tensorflow/workspace/images/collectedimages/nondrowsy\\nondrowsy.7a8b7756-30ed-11ee-9995-20e9170741a3.xml\n",
      "Image:E:\\PIYUSH_LAVANIYA_CMD\\DEEP_LEARNING_Projects\\Tensorflow_ObjectDetection\\tensorflow\\workspace\\images\\collectedimages\\nondrowsy\\nondrowsy.7b2d2d0a-30ed-11ee-a504-20e9170741a3.jpg -> Annotation:E:/PIYUSH_LAVANIYA_CMD/DEEP_LEARNING_Projects/Tensorflow_ObjectDetection/tensorflow/workspace/images/collectedimages/nondrowsy\\nondrowsy.7b2d2d0a-30ed-11ee-a504-20e9170741a3.xml\n",
      "Image:E:\\PIYUSH_LAVANIYA_CMD\\DEEP_LEARNING_Projects\\Tensorflow_ObjectDetection\\tensorflow\\workspace\\images\\collectedimages\\nondrowsy\\nondrowsy.7bcf1436-30ed-11ee-aa55-20e9170741a3.jpg -> Annotation:E:/PIYUSH_LAVANIYA_CMD/DEEP_LEARNING_Projects/Tensorflow_ObjectDetection/tensorflow/workspace/images/collectedimages/nondrowsy\\nondrowsy.7bcf1436-30ed-11ee-aa55-20e9170741a3.xml\n",
      "Image:E:\\PIYUSH_LAVANIYA_CMD\\DEEP_LEARNING_Projects\\Tensorflow_ObjectDetection\\tensorflow\\workspace\\images\\collectedimages\\nondrowsy\\nondrowsy.7c6f37dc-30ed-11ee-b8fb-20e9170741a3.jpg -> Annotation:E:/PIYUSH_LAVANIYA_CMD/DEEP_LEARNING_Projects/Tensorflow_ObjectDetection/tensorflow/workspace/images/collectedimages/nondrowsy\\nondrowsy.7c6f37dc-30ed-11ee-b8fb-20e9170741a3.xml\n",
      "Image:E:\\PIYUSH_LAVANIYA_CMD\\DEEP_LEARNING_Projects\\Tensorflow_ObjectDetection\\tensorflow\\workspace\\images\\collectedimages\\nondrowsy\\nondrowsy.7d11ae99-30ed-11ee-99b4-20e9170741a3.jpg -> Annotation:E:/PIYUSH_LAVANIYA_CMD/DEEP_LEARNING_Projects/Tensorflow_ObjectDetection/tensorflow/workspace/images/collectedimages/nondrowsy\\nondrowsy.7d11ae99-30ed-11ee-99b4-20e9170741a3.xml\n",
      "Image:E:\\PIYUSH_LAVANIYA_CMD\\DEEP_LEARNING_Projects\\Tensorflow_ObjectDetection\\tensorflow\\workspace\\images\\collectedimages\\nondrowsy\\nondrowsy.7db390bf-30ed-11ee-8c64-20e9170741a3.jpg -> Annotation:E:/PIYUSH_LAVANIYA_CMD/DEEP_LEARNING_Projects/Tensorflow_ObjectDetection/tensorflow/workspace/images/collectedimages/nondrowsy\\nondrowsy.7db390bf-30ed-11ee-8c64-20e9170741a3.xml\n",
      "Image:E:\\PIYUSH_LAVANIYA_CMD\\DEEP_LEARNING_Projects\\Tensorflow_ObjectDetection\\tensorflow\\workspace\\images\\collectedimages\\nondrowsy\\nondrowsy.7e552661-30ed-11ee-b45b-20e9170741a3.jpg -> Annotation:E:/PIYUSH_LAVANIYA_CMD/DEEP_LEARNING_Projects/Tensorflow_ObjectDetection/tensorflow/workspace/images/collectedimages/nondrowsy\\nondrowsy.7e552661-30ed-11ee-b45b-20e9170741a3.xml\n",
      "Image:E:\\PIYUSH_LAVANIYA_CMD\\DEEP_LEARNING_Projects\\Tensorflow_ObjectDetection\\tensorflow\\workspace\\images\\collectedimages\\nondrowsy\\nondrowsy.7ef4c0e9-30ed-11ee-9341-20e9170741a3.jpg -> Annotation:E:/PIYUSH_LAVANIYA_CMD/DEEP_LEARNING_Projects/Tensorflow_ObjectDetection/tensorflow/workspace/images/collectedimages/nondrowsy\\nondrowsy.7ef4c0e9-30ed-11ee-9341-20e9170741a3.xml\n",
      "Image:E:\\PIYUSH_LAVANIYA_CMD\\DEEP_LEARNING_Projects\\Tensorflow_ObjectDetection\\tensorflow\\workspace\\images\\collectedimages\\nondrowsy\\nondrowsy.71b49957-30ed-11ee-89fe-20e9170741a3.jpg -> Annotation:E:/PIYUSH_LAVANIYA_CMD/DEEP_LEARNING_Projects/Tensorflow_ObjectDetection/tensorflow/workspace/images/collectedimages/nondrowsy\\nondrowsy.71b49957-30ed-11ee-89fe-20e9170741a3.xml\n",
      "Image:E:\\PIYUSH_LAVANIYA_CMD\\DEEP_LEARNING_Projects\\Tensorflow_ObjectDetection\\tensorflow\\workspace\\images\\collectedimages\\nondrowsy\\nondrowsy.72f6d5f7-30ed-11ee-a0d2-20e9170741a3.jpg -> Annotation:E:/PIYUSH_LAVANIYA_CMD/DEEP_LEARNING_Projects/Tensorflow_ObjectDetection/tensorflow/workspace/images/collectedimages/nondrowsy\\nondrowsy.72f6d5f7-30ed-11ee-a0d2-20e9170741a3.xml\n",
      "Image:E:\\PIYUSH_LAVANIYA_CMD\\DEEP_LEARNING_Projects\\Tensorflow_ObjectDetection\\tensorflow\\workspace\\images\\collectedimages\\nondrowsy\\nondrowsy.74dc3635-30ed-11ee-80c6-20e9170741a3.jpg -> Annotation:E:/PIYUSH_LAVANIYA_CMD/DEEP_LEARNING_Projects/Tensorflow_ObjectDetection/tensorflow/workspace/images/collectedimages/nondrowsy\\nondrowsy.74dc3635-30ed-11ee-80c6-20e9170741a3.xml\n",
      "Image:E:\\PIYUSH_LAVANIYA_CMD\\DEEP_LEARNING_Projects\\Tensorflow_ObjectDetection\\tensorflow\\workspace\\images\\collectedimages\\nondrowsy\\nondrowsy.76c299a6-30ed-11ee-96ca-20e9170741a3.jpg -> Annotation:E:/PIYUSH_LAVANIYA_CMD/DEEP_LEARNING_Projects/Tensorflow_ObjectDetection/tensorflow/workspace/images/collectedimages/nondrowsy\\nondrowsy.76c299a6-30ed-11ee-96ca-20e9170741a3.xml\n",
      "Image:E:\\PIYUSH_LAVANIYA_CMD\\DEEP_LEARNING_Projects\\Tensorflow_ObjectDetection\\tensorflow\\workspace\\images\\collectedimages\\nondrowsy\\nondrowsy.78a59d5a-30ed-11ee-8811-20e9170741a3.jpg -> Annotation:E:/PIYUSH_LAVANIYA_CMD/DEEP_LEARNING_Projects/Tensorflow_ObjectDetection/tensorflow/workspace/images/collectedimages/nondrowsy\\nondrowsy.78a59d5a-30ed-11ee-8811-20e9170741a3.xml\n",
      "Image:E:\\PIYUSH_LAVANIYA_CMD\\DEEP_LEARNING_Projects\\Tensorflow_ObjectDetection\\tensorflow\\workspace\\images\\collectedimages\\nondrowsy\\nondrowsy.743b4a13-30ed-11ee-a018-20e9170741a3.jpg -> Annotation:E:/PIYUSH_LAVANIYA_CMD/DEEP_LEARNING_Projects/Tensorflow_ObjectDetection/tensorflow/workspace/images/collectedimages/nondrowsy\\nondrowsy.743b4a13-30ed-11ee-a018-20e9170741a3.xml\n",
      "Image:E:\\PIYUSH_LAVANIYA_CMD\\DEEP_LEARNING_Projects\\Tensorflow_ObjectDetection\\tensorflow\\workspace\\images\\collectedimages\\nondrowsy\\nondrowsy.757c2dac-30ed-11ee-b773-20e9170741a3.jpg -> Annotation:E:/PIYUSH_LAVANIYA_CMD/DEEP_LEARNING_Projects/Tensorflow_ObjectDetection/tensorflow/workspace/images/collectedimages/nondrowsy\\nondrowsy.757c2dac-30ed-11ee-b773-20e9170741a3.xml\n",
      "Image:E:\\PIYUSH_LAVANIYA_CMD\\DEEP_LEARNING_Projects\\Tensorflow_ObjectDetection\\tensorflow\\workspace\\images\\collectedimages\\nondrowsy\\nondrowsy.761dc345-30ed-11ee-b929-20e9170741a3.jpg -> Annotation:E:/PIYUSH_LAVANIYA_CMD/DEEP_LEARNING_Projects/Tensorflow_ObjectDetection/tensorflow/workspace/images/collectedimages/nondrowsy\\nondrowsy.761dc345-30ed-11ee-b929-20e9170741a3.xml\n",
      "Image:E:\\PIYUSH_LAVANIYA_CMD\\DEEP_LEARNING_Projects\\Tensorflow_ObjectDetection\\tensorflow\\workspace\\images\\collectedimages\\nondrowsy\\nondrowsy.7254cab9-30ed-11ee-afe8-20e9170741a3.jpg -> Annotation:E:/PIYUSH_LAVANIYA_CMD/DEEP_LEARNING_Projects/Tensorflow_ObjectDetection/tensorflow/workspace/images/collectedimages/nondrowsy\\nondrowsy.7254cab9-30ed-11ee-afe8-20e9170741a3.xml\n",
      "Image:E:\\PIYUSH_LAVANIYA_CMD\\DEEP_LEARNING_Projects\\Tensorflow_ObjectDetection\\tensorflow\\workspace\\images\\collectedimages\\nondrowsy\\nondrowsy.7763a87a-30ed-11ee-907d-20e9170741a3.jpg -> Annotation:E:/PIYUSH_LAVANIYA_CMD/DEEP_LEARNING_Projects/Tensorflow_ObjectDetection/tensorflow/workspace/images/collectedimages/nondrowsy\\nondrowsy.7763a87a-30ed-11ee-907d-20e9170741a3.xml\n",
      "Image:E:\\PIYUSH_LAVANIYA_CMD\\DEEP_LEARNING_Projects\\Tensorflow_ObjectDetection\\tensorflow\\workspace\\images\\collectedimages\\nondrowsy\\nondrowsy.7947d628-30ed-11ee-97e8-20e9170741a3.jpg -> Annotation:E:/PIYUSH_LAVANIYA_CMD/DEEP_LEARNING_Projects/Tensorflow_ObjectDetection/tensorflow/workspace/images/collectedimages/nondrowsy\\nondrowsy.7947d628-30ed-11ee-97e8-20e9170741a3.xml\n",
      "Image:E:\\PIYUSH_LAVANIYA_CMD\\DEEP_LEARNING_Projects\\Tensorflow_ObjectDetection\\tensorflow\\workspace\\images\\collectedimages\\nondrowsy\\nondrowsy.711390e2-30ed-11ee-bc26-20e9170741a3.jpg -> Annotation:E:/PIYUSH_LAVANIYA_CMD/DEEP_LEARNING_Projects/Tensorflow_ObjectDetection/tensorflow/workspace/images/collectedimages/nondrowsy\\nondrowsy.711390e2-30ed-11ee-bc26-20e9170741a3.xml\n",
      "Image:E:\\PIYUSH_LAVANIYA_CMD\\DEEP_LEARNING_Projects\\Tensorflow_ObjectDetection\\tensorflow\\workspace\\images\\collectedimages\\nondrowsy\\nondrowsy.780396b7-30ed-11ee-978e-20e9170741a3.jpg -> Annotation:E:/PIYUSH_LAVANIYA_CMD/DEEP_LEARNING_Projects/Tensorflow_ObjectDetection/tensorflow/workspace/images/collectedimages/nondrowsy\\nondrowsy.780396b7-30ed-11ee-978e-20e9170741a3.xml\n",
      "Image:E:\\PIYUSH_LAVANIYA_CMD\\DEEP_LEARNING_Projects\\Tensorflow_ObjectDetection\\tensorflow\\workspace\\images\\collectedimages\\nondrowsy\\nondrowsy.7073067a-30ed-11ee-a9a4-20e9170741a3.jpg -> Annotation:E:/PIYUSH_LAVANIYA_CMD/DEEP_LEARNING_Projects/Tensorflow_ObjectDetection/tensorflow/workspace/images/collectedimages/nondrowsy\\nondrowsy.7073067a-30ed-11ee-a9a4-20e9170741a3.xml\n",
      "Image:E:\\PIYUSH_LAVANIYA_CMD\\DEEP_LEARNING_Projects\\Tensorflow_ObjectDetection\\tensorflow\\workspace\\images\\collectedimages\\nondrowsy\\nondrowsy.73991054-30ed-11ee-b00b-20e9170741a3.jpg -> Annotation:E:/PIYUSH_LAVANIYA_CMD/DEEP_LEARNING_Projects/Tensorflow_ObjectDetection/tensorflow/workspace/images/collectedimages/nondrowsy\\nondrowsy.73991054-30ed-11ee-b00b-20e9170741a3.xml\n"
     ]
    }
   ],
   "source": [
    "!cd {LABEL_PATH} && python labelImg.py"
   ]
  },
  {
   "cell_type": "code",
   "execution_count": 15,
   "id": "d0fc4f35",
   "metadata": {},
   "outputs": [],
   "source": [
    "#Pushing the test and train folders to collab"
   ]
  },
  {
   "cell_type": "code",
   "execution_count": 17,
   "id": "8a9e2fed-0436-4ef7-bb9d-530d670fbdb0",
   "metadata": {},
   "outputs": [],
   "source": [
    "TRAIN_PATH = os.path.join('tensorflow', 'workspace', 'images', 'train')\n",
    "TEST_PATH = os.path.join('tensorflow', 'workspace', 'images', 'test')\n",
    "ARCHIVE_PATH = os.path.join('tensorflow', 'workspace', 'images', 'archive.tar.gz')"
   ]
  },
  {
   "cell_type": "code",
   "execution_count": 18,
   "id": "62cb6871-d15b-40e2-bb1b-d5dff15d483a",
   "metadata": {},
   "outputs": [],
   "source": [
    "!tar -czf {ARCHIVE_PATH} {TRAIN_PATH} {TEST_PATH}"
   ]
  },
  {
   "cell_type": "code",
   "execution_count": null,
   "id": "3605dd04-a643-4fc3-94e7-607e78098a84",
   "metadata": {},
   "outputs": [],
   "source": []
  }
 ],
 "metadata": {
  "kernelspec": {
   "display_name": "tfod",
   "language": "python",
   "name": "tfod"
  },
  "language_info": {
   "codemirror_mode": {
    "name": "ipython",
    "version": 3
   },
   "file_extension": ".py",
   "mimetype": "text/x-python",
   "name": "python",
   "nbconvert_exporter": "python",
   "pygments_lexer": "ipython3",
   "version": "3.10.6"
  }
 },
 "nbformat": 4,
 "nbformat_minor": 5
}
